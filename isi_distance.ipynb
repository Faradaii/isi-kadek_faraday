{
  "nbformat": 4,
  "nbformat_minor": 0,
  "metadata": {
    "colab": {
      "provenance": [],
      "authorship_tag": "ABX9TyPXi4sYSSyUUPDmKesHNzxc",
      "include_colab_link": true
    },
    "kernelspec": {
      "name": "python3",
      "display_name": "Python 3"
    },
    "language_info": {
      "name": "python"
    }
  },
  "cells": [
    {
      "cell_type": "markdown",
      "metadata": {
        "id": "view-in-github",
        "colab_type": "text"
      },
      "source": [
        "<a href=\"https://colab.research.google.com/github/Faradaii/isi-kadek_faraday/blob/main/isi_distance.ipynb\" target=\"_parent\"><img src=\"https://colab.research.google.com/assets/colab-badge.svg\" alt=\"Open In Colab\"/></a>"
      ]
    },
    {
      "cell_type": "code",
      "source": [
        "import requests\n",
        "\n",
        "API_KEY = \"5b3ce3597851110001cf624817c89a6655584ab4941215bf9bfecc62\"\n",
        "BASE_URL = \"https://api.openrouteservice.org/v2/directions/driving-car\"\n",
        "START_COORDINATE = \"115.18301180914683,-8.745742493194427\"\n",
        "END_COORDINATE = \"115.15892917017509,-8.806048249507896\"\n",
        "\n",
        "def get_directions(start: str, end: str):\n",
        "    params = {\n",
        "        \"api_key\": API_KEY,\n",
        "        \"start\": start,\n",
        "        \"end\": end\n",
        "    }\n",
        "    response = requests.get(BASE_URL, params=params)\n",
        "    if response.status_code == 200:\n",
        "        return response.json()\n",
        "    else:\n",
        "        return {\"error\": response.status_code, \"message\": response.text}\n",
        "\n",
        "def print_directions_data(data):\n",
        "    print(\"Hasil Jarak:\")\n",
        "    distance_meters = data.get(\"features\", [{}])[0].get(\"properties\", {}).get(\"summary\", {}).get(\"distance\", 0)\n",
        "    print(f\"{distance_meters / 1000} km\")\n",
        "\n",
        "if __name__ == \"__main__\":\n",
        "    startCoordinate = START_COORDINATE\n",
        "    endCoordinate = END_COORDINATE\n",
        "    data = get_directions(startCoordinate, endCoordinate)\n",
        "    print_directions_data(data)"
      ],
      "metadata": {
        "colab": {
          "base_uri": "https://localhost:8080/"
        },
        "id": "d3myrirGiruG",
        "outputId": "75dcedf5-7328-4a3b-cbd5-45967c4237ed"
      },
      "execution_count": 13,
      "outputs": [
        {
          "output_type": "stream",
          "name": "stdout",
          "text": [
            "Hasil Jarak:\n",
            "8.313 km\n"
          ]
        }
      ]
    }
  ]
}